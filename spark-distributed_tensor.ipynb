{
 "cells": [
  {
   "cell_type": "markdown",
   "metadata": {
    "deletable": true,
    "editable": true
   },
   "source": [
    "## Start the spark configureation"
   ]
  },
  {
   "cell_type": "markdown",
   "metadata": {
    "deletable": true,
    "editable": true
   },
   "source": [
    "## Cluster Configuration"
   ]
  },
  {
   "cell_type": "code",
   "execution_count": 1,
   "metadata": {
    "collapsed": false
   },
   "outputs": [
    {
     "name": "stdout",
     "output_type": "stream",
     "text": [
      "Starting Spark application\n"
     ]
    },
    {
     "data": {
      "text/html": [
       "<table>\n",
       "<tr><th>ID</th><th>YARN Application ID</th><th>Kind</th><th>State</th><th>Spark UI</th><th>Driver log</th><th>Current session?</th></tr><tr><td>2</td><td>application_1500400165929_0025</td><td>pyspark3</td><td>idle</td><td><a target=\"_blank\" href=\"https://ip-172-31-25-53.us-west-2.compute.internal:8090/proxy/application_1500400165929_0025/\">Link</a></td><td><a target=\"_blank\" href=\"https://ip-172-31-25-53.us-west-2.compute.internal:8044/node/containerlogs/container_e22_1500400165929_0025_01_000001/jean\">Link</a></td><td>✔</td></tr></table>"
      ],
      "text/plain": [
       "<IPython.core.display.HTML object>"
      ]
     },
     "metadata": {},
     "output_type": "display_data"
    },
    {
     "name": "stdout",
     "output_type": "stream",
     "text": [
      "SparkSession available as 'spark'.\n",
      "<pyspark.context.SparkContext object at 0x7fa301e98940>"
     ]
    }
   ],
   "source": [
    "sc"
   ]
  },
  {
   "cell_type": "code",
   "execution_count": 3,
   "metadata": {
    "collapsed": false,
    "deletable": true,
    "editable": true
   },
   "outputs": [
    {
     "name": "stdout",
     "output_type": "stream",
     "text": [
      "Starting Spark application\n"
     ]
    },
    {
     "data": {
      "text/html": [
       "<table>\n",
       "<tr><th>ID</th><th>YARN Application ID</th><th>Kind</th><th>State</th><th>Spark UI</th><th>Driver log</th><th>Current session?</th></tr><tr><td>3</td><td>application_1500400165929_0026</td><td>pyspark3</td><td>idle</td><td><a target=\"_blank\" href=\"https://ip-172-31-25-53.us-west-2.compute.internal:8090/proxy/application_1500400165929_0026/\">Link</a></td><td><a target=\"_blank\" href=\"https://ip-172-31-25-53.us-west-2.compute.internal:8044/node/containerlogs/container_e22_1500400165929_0026_01_000001/jean\">Link</a></td><td>✔</td></tr></table>"
      ],
      "text/plain": [
       "<IPython.core.display.HTML object>"
      ]
     },
     "metadata": {},
     "output_type": "display_data"
    },
    {
     "name": "stdout",
     "output_type": "stream",
     "text": [
      "SparkSession available as 'spark'.\n"
     ]
    },
    {
     "data": {
      "text/html": [
       "Current session configs: <tt>{'name': 'spark-tensorflow', 'executorMemory': '4G', 'driverMemory': '1G', 'kind': 'pyspark3', 'executorCores': 4}</tt><br>"
      ],
      "text/plain": [
       "<IPython.core.display.HTML object>"
      ]
     },
     "metadata": {},
     "output_type": "display_data"
    },
    {
     "data": {
      "text/html": [
       "<table>\n",
       "<tr><th>ID</th><th>YARN Application ID</th><th>Kind</th><th>State</th><th>Spark UI</th><th>Driver log</th><th>Current session?</th></tr><tr><td>3</td><td>application_1500400165929_0026</td><td>pyspark3</td><td>idle</td><td><a target=\"_blank\" href=\"https://ip-172-31-25-53.us-west-2.compute.internal:8090/proxy/application_1500400165929_0026/\">Link</a></td><td><a target=\"_blank\" href=\"https://ip-172-31-25-53.us-west-2.compute.internal:8044/node/containerlogs/container_e22_1500400165929_0026_01_000001/jean\">Link</a></td><td>✔</td></tr></table>"
      ],
      "text/plain": [
       "<IPython.core.display.HTML object>"
      ]
     },
     "metadata": {},
     "output_type": "display_data"
    }
   ],
   "source": [
    "%%configure -f \n",
    "{\"name\": \"spark-tensorflow\",\n",
    "\"driverMemory\": \"1G\",\n",
    "\"executorMemory\": \"4G\",\n",
    "\"executorCores\": 4\n",
    "}"
   ]
  },
  {
   "cell_type": "markdown",
   "metadata": {
    "deletable": true,
    "editable": true
   },
   "source": [
    "## Specify the parameters"
   ]
  },
  {
   "cell_type": "code",
   "execution_count": 7,
   "metadata": {
    "collapsed": false,
    "deletable": true,
    "editable": true
   },
   "outputs": [
    {
     "name": "stdout",
     "output_type": "stream",
     "text": [
      "Simple combination for a standard CNN skeleton for Image Classification ...\n",
      "[(0.1, 20), (0.0001, 20)]\n",
      "Some combinations for Neural Style Painting ...\n",
      "[(500, 10.0, 50.0), (500, 10.0, 500.0), (500, 0.1, 50.0), (500, 0.1, 500.0)]"
     ]
    }
   ],
   "source": [
    "import itertools\n",
    "\n",
    "# A simple example\n",
    "epochs = [20]\n",
    "learning_rate = [0.1, 0.0001]\n",
    "# Build a list of list of hyperparameter values\n",
    "sample_hyperparams = [learning_rate, epochs]\n",
    "sample_combinations = [item for item in itertools.product(*sample_hyperparams)]\n",
    "print('Simple combination for a standard CNN skeleton for Image Classification ...')\n",
    "print(sample_combinations)\n",
    "\n",
    "\n",
    "# some parameters for playing with neural style painting\n",
    "iterations = [500]\n",
    "learning_rate = [1e1, 0.1]\n",
    "style_wt = [5e1, 5e2]\n",
    "content_wt_blend = [1, 0.5]\n",
    "style_blend_weights = [0.4, 0.5, 0.8]\n",
    "preserve_colors = [True, False]\n",
    "# Build a list of list of hyperparameter values\n",
    "hyperparams = [iterations, learning_rate, style_wt]\n",
    "combinations = [item for item in itertools.product(*hyperparams)]\n",
    "print('Some combinations for Neural Style Painting ...')\n",
    "print(combinations)"
   ]
  },
  {
   "cell_type": "markdown",
   "metadata": {
    "collapsed": true,
    "deletable": true,
    "editable": true
   },
   "source": [
    "## Prepare the tensor flow program for execution\n",
    "1. Build your Tensor based Estimator(Classifier) / or other deep learning model \n",
    "2. Copy over the program script to an accessible location on worker nooes\n",
    "3. Architecture for the distributed setup for tensorflow\n",
    "<img src=\"https://preview.ibb.co/kfKmKk/architecture_spark_tensorflow.png\" alt=\"architecture_spark_tensorflow\" border=\"0\">\n",
    "4. The above architecture will help us tune the model for the right parameters in a distributed manner"
   ]
  },
  {
   "cell_type": "code",
   "execution_count": 12,
   "metadata": {
    "collapsed": false
   },
   "outputs": [
    {
     "name": "stdout",
     "output_type": "stream",
     "text": [
      "['python \"/mnt/neural_style_painting/neural-style/neural_style.py\" \"--content\" \"/mnt/neural_style_painting/neural-style/examples/1-content.jpg\" \"--styles\" \"/mnt/neural_style_painting/neural-style/examples/1-style.jpg\" \"--output\" \"/tmp/results/f_d_10.0.jpg\" \"--iterations\" 500 \"--network\" \"/mnt/neural_style_painting/vgg_network/imagenet-vgg-verydeep-19.mat\" \"--learning-rate\" 10.0 \"--style-weight\" 50.0', 'python \"/mnt/neural_style_painting/neural-style/neural_style.py\" \"--content\" \"/mnt/neural_style_painting/neural-style/examples/1-content.jpg\" \"--styles\" \"/mnt/neural_style_painting/neural-style/examples/1-style.jpg\" \"--output\" \"/tmp/results/f_d_10.0.jpg\" \"--iterations\" 500 \"--network\" \"/mnt/neural_style_painting/vgg_network/imagenet-vgg-verydeep-19.mat\" \"--learning-rate\" 10.0 \"--style-weight\" 500.0', 'python \"/mnt/neural_style_painting/neural-style/neural_style.py\" \"--content\" \"/mnt/neural_style_painting/neural-style/examples/1-content.jpg\" \"--styles\" \"/mnt/neural_style_painting/neural-style/examples/1-style.jpg\" \"--output\" \"/tmp/results/f_d_0.1.jpg\" \"--iterations\" 500 \"--network\" \"/mnt/neural_style_painting/vgg_network/imagenet-vgg-verydeep-19.mat\" \"--learning-rate\" 0.1 \"--style-weight\" 50.0', 'python \"/mnt/neural_style_painting/neural-style/neural_style.py\" \"--content\" \"/mnt/neural_style_painting/neural-style/examples/1-content.jpg\" \"--styles\" \"/mnt/neural_style_painting/neural-style/examples/1-style.jpg\" \"--output\" \"/tmp/results/f_d_0.1.jpg\" \"--iterations\" 500 \"--network\" \"/mnt/neural_style_painting/vgg_network/imagenet-vgg-verydeep-19.mat\" \"--learning-rate\" 0.1 \"--style-weight\" 500.0']"
     ]
    }
   ],
   "source": [
    "# 1. Setting up the command for a simple CNN example\n",
    "sample_cmd = 'python \"/mnt/cnn/cnn_tutorial.py\" \"--learning_rate\" {} \"--epoch\" {}'\n",
    "rdd_list = sc.parallelize(sample_combinations)\n",
    "sample_cmd_rdd = rdd_list.map(lambda x: sample_cmd.format(x[0], x[1]))\n",
    "sample_cmd_rdd.collect()\n",
    "\n",
    "\n",
    "# 2. Setting up the command for an example code for Neural Style Painting setup\n",
    "# Reference: Great implementation by Anish Athalye of the Gatys et al. paper on \n",
    "# Style Transfer(https://arxiv.org/pdf/1508.06576v2.pdf)\n",
    "# https://github.com/datascienceinc/neural-style\n",
    "cmd = 'python \"/mnt/neural_style_painting/neural-style/neural_style.py\" \"--content\" \"/mnt/neural_style_painting/neural-style/examples/1-content.jpg\" \"--styles\" \"/mnt/neural_style_painting/neural-style/examples/1-style.jpg\" \"--output\" \"/tmp/results/f_d_{}.jpg\" \"--iterations\" {} \"--network\" \"/mnt/neural_style_painting/vgg_network/imagenet-vgg-verydeep-19.mat\" \"--learning-rate\" {} \"--style-weight\" {}'\n",
    "rdd_list = sc.parallelize(combinations)\n",
    "cmd_rdd = rdd_list.map(lambda x: cmd.format(x[1], x[0], x[1], x[2]))\n",
    "cmd_rdd.collect()"
   ]
  },
  {
   "cell_type": "markdown",
   "metadata": {},
   "source": [
    "## Parallelize model parameter tunning"
   ]
  },
  {
   "cell_type": "code",
   "execution_count": null,
   "metadata": {
    "collapsed": true
   },
   "outputs": [],
   "source": [
    "import subprocess\n",
    "import shlex\n",
    "from __future__ import print_function\n",
    "\n",
    "# A simple function to extract model metric for evaluation\n",
    "def get_metric(input_str):\n",
    "    pattern = re.compile(r\"Accuracy\\:.*\")\n",
    "    return pattern.search(input_str).group(0)\n",
    "\n",
    "# A simple function to do parallel computation\n",
    "def launch_job(cmd_str):\n",
    "    call_params = shlex.split(cmd_str)\n",
    "    proc = subprocess.Popen(call_params, stdout=subprocess.PIPE,\n",
    "            stderr=subprocess.PIPE)\n",
    "    out, err = proc.communicate()\n",
    "    return out\n",
    "\n",
    "results = cmd_rdd.map(lambda k: get_metric(launch_job(k)))\n",
    "results.collect()"
   ]
  },
  {
   "cell_type": "markdown",
   "metadata": {},
   "source": [
    "## Ease of accessing \"sparkmagic + Livy\" kernel setup\n",
    "<img src=\"https://preview.ibb.co/h7S95Q/platform_sparkmagic_livy.png\" alt=\"platform_sparkmagic_livy\">"
   ]
  },
  {
   "cell_type": "code",
   "execution_count": null,
   "metadata": {
    "collapsed": true
   },
   "outputs": [],
   "source": []
  }
 ],
 "metadata": {
  "kernelspec": {
   "display_name": "PySpark3",
   "language": "",
   "name": "pyspark3kernel"
  },
  "language_info": {
   "codemirror_mode": {
    "name": "python",
    "version": 3
   },
   "mimetype": "text/x-python",
   "name": "pyspark3",
   "pygments_lexer": "python3"
  }
 },
 "nbformat": 4,
 "nbformat_minor": 2
}
